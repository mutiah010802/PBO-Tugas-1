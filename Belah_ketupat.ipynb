{
  "nbformat": 4,
  "nbformat_minor": 0,
  "metadata": {
    "colab": {
      "provenance": [],
      "authorship_tag": "ABX9TyNf0ietMzI6/LdRHrxfR64z"
    },
    "kernelspec": {
      "name": "python3",
      "display_name": "Python 3"
    },
    "language_info": {
      "name": "python"
    }
  },
  "cells": [
    {
      "cell_type": "code",
      "source": [
        "class BelahKetupat:\n",
        "    def __init__(self, diagonal1, diagonal2):\n",
        "        self.diagonal1 = diagonal1\n",
        "        self.diagonal2 = diagonal2\n",
        "\n",
        "    def hitung_luas(self):\n",
        "        \"\"\"Menghitung luas belah ketupat.\"\"\"\n",
        "        return (self.diagonal1 * self.diagonal2) / 2\n",
        "\n",
        "    def hitung_keliling(self):\n",
        "        \"\"\"Menghitung keliling belah ketupat.\"\"\"\n",
        "        # Menghitung panjang sisi menggunakan Pythagoras\n",
        "        sisi = ((self.diagonal1 / 2) ** 2 + (self.diagonal2 / 2) ** 2) ** 0.5\n",
        "        return 4 * sisi\n",
        "\n",
        "# Contoh penggunaan\n",
        "if __name__ == \"__main__\":\n",
        "    # Membuat objek belah ketupat\n",
        "    diagonal1 = 6\n",
        "    diagonal2 = 8\n",
        "    belah_ketupat = BelahKetupat(diagonal1, diagonal2)\n",
        "\n",
        "    # Menghitung luas dan keliling\n",
        "    luas = belah_ketupat.hitung_luas()\n",
        "    keliling = belah_ketupat.hitung_keliling()\n",
        "\n",
        "    print(f\"Luas belah ketupat: {luas:.2f}\")\n",
        "    print(f\"Keliling belah ketupat: {keliling:.2f}\")"
      ],
      "metadata": {
        "colab": {
          "base_uri": "https://localhost:8080/"
        },
        "id": "2spU7wNyBXyt",
        "outputId": "3a2f032f-57d8-47d0-ed8d-3264045e5bb4"
      },
      "execution_count": 3,
      "outputs": [
        {
          "output_type": "stream",
          "name": "stdout",
          "text": [
            "Luas belah ketupat: 24.00\n",
            "Keliling belah ketupat: 20.00\n"
          ]
        }
      ]
    }
  ]
}