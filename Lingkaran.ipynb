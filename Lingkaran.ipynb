{
  "nbformat": 4,
  "nbformat_minor": 0,
  "metadata": {
    "colab": {
      "provenance": [],
      "authorship_tag": "ABX9TyNerk0eQ8rzgPDYD8Acmh7t"
    },
    "kernelspec": {
      "name": "python3",
      "display_name": "Python 3"
    },
    "language_info": {
      "name": "python"
    }
  },
  "cells": [
    {
      "cell_type": "code",
      "source": [
        "import math\n",
        "\n",
        "class Lingkaran:\n",
        "    def __init__(self, jari_jari):\n",
        "        self.jari_jari = jari_jari\n",
        "\n",
        "    def hitung_luas(self):\n",
        "        \"\"\"Menghitung luas lingkaran.\"\"\"\n",
        "        return math.pi * (self.jari_jari ** 2)\n",
        "\n",
        "    def hitung_keliling(self):\n",
        "        \"\"\"Menghitung keliling lingkaran.\"\"\"\n",
        "        return 2 * math.pi * self.jari_jari\n",
        "\n",
        "# Contoh penggunaan\n",
        "if __name__ == \"__main__\":\n",
        "    # Membuat objek lingkaran\n",
        "    jari_jari = 4\n",
        "    lingkaran = Lingkaran(jari_jari)\n",
        "\n",
        "    # Menghitung luas dan keliling\n",
        "    luas = lingkaran.hitung_luas()\n",
        "    keliling = lingkaran.hitung_keliling()\n",
        "\n",
        "    print(f\"Luas lingkaran: {luas:.2f}\")\n",
        "    print(f\"Keliling lingkaran: {keliling:.2f}\")"
      ],
      "metadata": {
        "colab": {
          "base_uri": "https://localhost:8080/"
        },
        "id": "GeX0c1x5A16N",
        "outputId": "cdfa2010-5d3e-4b8c-c2e8-1c36192294a0"
      },
      "execution_count": 2,
      "outputs": [
        {
          "output_type": "stream",
          "name": "stdout",
          "text": [
            "Luas lingkaran: 50.27\n",
            "Keliling lingkaran: 25.13\n"
          ]
        }
      ]
    }
  ]
}