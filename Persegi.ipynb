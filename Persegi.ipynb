{
  "nbformat": 4,
  "nbformat_minor": 0,
  "metadata": {
    "colab": {
      "provenance": [],
      "authorship_tag": "ABX9TyOcLKt2/P7RHncbGQtOfO3b"
    },
    "kernelspec": {
      "name": "python3",
      "display_name": "Python 3"
    },
    "language_info": {
      "name": "python"
    }
  },
  "cells": [
    {
      "cell_type": "code",
      "execution_count": 1,
      "metadata": {
        "colab": {
          "base_uri": "https://localhost:8080/"
        },
        "id": "5dPlpKTc215a",
        "outputId": "d84787ef-f276-4300-a952-2b4bd05856f9"
      },
      "outputs": [
        {
          "output_type": "stream",
          "name": "stdout",
          "text": [
            "Luas persegi = 16.00\n"
          ]
        }
      ],
      "source": [
        "# Mendefinisikan kelas Persegi\n",
        "class Persegi:\n",
        "    def __init__(self):\n",
        "        # Atribut sisi persegi\n",
        "        self.sisi = 0.0\n",
        "\n",
        "    # Metode untuk menghitung luas\n",
        "    def hitung_luas(self):\n",
        "        return self.sisi * self.sisi\n",
        "\n",
        "def main():\n",
        "    # Membuat objek dari kelas Persegi\n",
        "    obj = Persegi()\n",
        "\n",
        "    # Mengisi nilai sisi pada atribut objek\n",
        "    obj.sisi = 4  # Contoh panjang sisi\n",
        "\n",
        "    # Menggunakan metode untuk perhitungan luas\n",
        "    luas = obj.hitung_luas()\n",
        "    print('Luas persegi = %.2f' % luas)\n",
        "\n",
        "if __name__ == '__main__':\n",
        "    main()"
      ]
    }
  ]
}