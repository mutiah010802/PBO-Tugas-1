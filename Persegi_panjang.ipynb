{
  "nbformat": 4,
  "nbformat_minor": 0,
  "metadata": {
    "colab": {
      "provenance": [],
      "authorship_tag": "ABX9TyNHUVpOz7Pf+4W777phlUll"
    },
    "kernelspec": {
      "name": "python3",
      "display_name": "Python 3"
    },
    "language_info": {
      "name": "python"
    }
  },
  "cells": [
    {
      "cell_type": "code",
      "execution_count": 1,
      "metadata": {
        "colab": {
          "base_uri": "https://localhost:8080/"
        },
        "id": "gMd5izEiAO24",
        "outputId": "c7672eab-1671-4fef-c76b-dd85ccd004d2"
      },
      "outputs": [
        {
          "output_type": "stream",
          "name": "stdout",
          "text": [
            "Luas persegi panjang: 15\n",
            "Keliling persegi panjang: 16\n"
          ]
        }
      ],
      "source": [
        "class PersegiPanjang:\n",
        "    def __init__(self, panjang, lebar):\n",
        "        self.panjang = panjang\n",
        "        self.lebar = lebar\n",
        "\n",
        "    def hitung_luas(self):\n",
        "        \"\"\"Menghitung luas persegi panjang.\"\"\"\n",
        "        return self.panjang * self.lebar\n",
        "\n",
        "    def hitung_keliling(self):\n",
        "        \"\"\"Menghitung keliling persegi panjang.\"\"\"\n",
        "        return 2 * (self.panjang + self.lebar)\n",
        "\n",
        "# Contoh penggunaan\n",
        "if __name__ == \"__main__\":\n",
        "    # Membuat objek persegi panjang\n",
        "    panjang = 5\n",
        "    lebar = 3\n",
        "    persegi_panjang = PersegiPanjang(panjang, lebar)\n",
        "\n",
        "    # Menghitung luas dan keliling\n",
        "    luas = persegi_panjang.hitung_luas()\n",
        "    keliling = persegi_panjang.hitung_keliling()\n",
        "\n",
        "    print(f\"Luas persegi panjang: {luas}\")\n",
        "    print(f\"Keliling persegi panjang: {keliling}\")"
      ]
    }
  ]
}