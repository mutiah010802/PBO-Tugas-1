# Mendefinisikan kelas Persegi
class Persegi:
    def __init__(self):
        # Atribut sisi persegi
        self.sisi = 0.0
    
    # Metode untuk menghitung luas
    def hitung_luas(self):
        return self.sisi * self.sisi

def main():
    # Membuat objek dari kelas Persegi
    obj = Persegi()

    # Mengisi nilai sisi pada atribut objek
    obj.sisi = 4  # Contoh panjang sisi

    # Menggunakan metode untuk perhitungan luas
    luas = obj.hitung_luas()
    print('Luas persegi = %.2f' % luas)

if __name__ == '__main__':
    main()
