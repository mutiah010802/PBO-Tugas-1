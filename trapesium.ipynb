{
  "nbformat": 4,
  "nbformat_minor": 0,
  "metadata": {
    "colab": {
      "provenance": [],
      "authorship_tag": "ABX9TyMO0NOHbhjiS0kFP4afgZOG"
    },
    "kernelspec": {
      "name": "python3",
      "display_name": "Python 3"
    },
    "language_info": {
      "name": "python"
    }
  },
  "cells": [
    {
      "cell_type": "code",
      "source": [
        "class Trapesium:\n",
        "    def __init__(self, sisi_sejajar1, sisi_sejajar2, tinggi):\n",
        "        self.sisi_sejajar1 = sisi_sejajar1\n",
        "        self.sisi_sejajar2 = sisi_sejajar2\n",
        "        self.tinggi = tinggi\n",
        "\n",
        "    def hitung_luas(self):\n",
        "        \"\"\"Menghitung luas trapesium.\"\"\"\n",
        "        return ((self.sisi_sejajar1 + self.sisi_sejajar2) / 2) * self.tinggi\n",
        "\n",
        "    def hitung_keliling(self, sisi_miring1, sisi_miring2):\n",
        "        \"\"\"Menghitung keliling trapesium.\"\"\"\n",
        "        return self.sisi_sejajar1 + self.sisi_sejajar2 + sisi_miring1 + sisi_miring2\n",
        "\n",
        "# Contoh penggunaan\n",
        "if __name__ == \"__main__\":\n",
        "    # Membuat objek trapesium\n",
        "    sisi_sejajar1 = 5\n",
        "    sisi_sejajar2 = 7\n",
        "    tinggi = 4\n",
        "    sisi_miring1 = 3\n",
        "    sisi_miring2 = 3\n",
        "\n",
        "    trapesium = Trapesium(sisi_sejajar1, sisi_sejajar2, tinggi)\n",
        "\n",
        "    # Menghitung luas dan keliling\n",
        "    luas = trapesium.hitung_luas()\n",
        "    keliling = trapesium.hitung_keliling(sisi_miring1, sisi_miring2)\n",
        "\n",
        "    print(f\"Luas trapesium: {luas:.2f}\")\n",
        "    print(f\"Keliling trapesium: {keliling:.2f}\")"
      ],
      "metadata": {
        "colab": {
          "base_uri": "https://localhost:8080/"
        },
        "id": "FrrHQjQ2Bz49",
        "outputId": "9158dcae-65ce-462f-fb7f-c9e474f07d5f"
      },
      "execution_count": 4,
      "outputs": [
        {
          "output_type": "stream",
          "name": "stdout",
          "text": [
            "Luas trapesium: 24.00\n",
            "Keliling trapesium: 18.00\n"
          ]
        }
      ]
    }
  ]
}